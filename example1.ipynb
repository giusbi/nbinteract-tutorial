{
 "cells": [
  {
   "cell_type": "code",
   "execution_count": 5,
   "metadata": {},
   "outputs": [],
   "source": [
    "from ipywidgets import interact, interactive\n",
    "import ipywidgets as widgets\n",
    "import pandas as pd\n",
    "import numpy as np"
   ]
  },
  {
   "cell_type": "code",
   "execution_count": 6,
   "metadata": {},
   "outputs": [],
   "source": [
    "filename = 'data.csv'\n",
    "df = pd.read_csv(filename)"
   ]
  },
  {
   "cell_type": "code",
   "execution_count": 7,
   "metadata": {},
   "outputs": [],
   "source": [
    "# Calculate stats over all processes\n",
    "mean_var = df.groupby('process_ID').mean().mean(axis=0).to_frame('mean')"
   ]
  },
  {
   "cell_type": "code",
   "execution_count": 8,
   "metadata": {},
   "outputs": [],
   "source": [
    "def plot_corr(df_temp):\n",
    "    corr = df_temp.corr()\n",
    "    mask = np.zeros_like(corr, dtype=np.bool)\n",
    "    mask[np.triu_indices_from(mask)] = True\n",
    "\n",
    "    f, ax = plt.subplots(figsize=(20, 12))\n",
    "    cmap = sns.diverging_palette(220, 10, as_cmap=True)\n",
    "\n",
    "    sns.heatmap(corr, mask=mask,cmap='YlGnBu', annot=True, center=0, square=True, linewidths=.5, cbar_kws={\"shrink\": .5}, annot_kws={\"size\": 8})\n",
    "    \n",
    "def plot_curve(df, y):\n",
    "    plt.figure(figsize=(8, 5))\n",
    "    plt.title(y)\n",
    "    df[y].plot()\n",
    "    plt.axhline(y=mean_var.loc[y, 'mean'], color='r', linestyle='-', label='variable mean over processes')\n",
    "    plt.xlabel('time_index')\n",
    "    \n",
    "def print_stats(df):\n",
    "    display(df.describe().append(df.nunique().rename('unique')).transpose())"
   ]
  },
  {
   "cell_type": "code",
   "execution_count": 9,
   "metadata": {},
   "outputs": [
    {
     "data": {
      "application/vnd.jupyter.widget-view+json": {
       "model_id": "6d02d14a17df483ba17f951de4e9dad7",
       "version_major": 2,
       "version_minor": 0
      },
      "text/plain": [
       "interactive(children=(Select(description='process_ID', options=(4115, 4116, 4117, 4118, 4119, 4120, 4121, 4122…"
      ]
     },
     "metadata": {},
     "output_type": "display_data"
    }
   ],
   "source": [
    "items = sorted(df['process_ID'].unique().tolist())\n",
    "\n",
    "def view(x=''):\n",
    "    return print_stats(df[df['process_ID']==x])\n",
    " \n",
    "w = widgets.Select(options=items, description='process_ID')\n",
    "interactive(view, x=w)"
   ]
  }
 ],
 "metadata": {
  "kernelspec": {
   "display_name": "Python 3",
   "language": "python",
   "name": "python3"
  },
  "language_info": {
   "codemirror_mode": {
    "name": "ipython",
    "version": 3
   },
   "file_extension": ".py",
   "mimetype": "text/x-python",
   "name": "python",
   "nbconvert_exporter": "python",
   "pygments_lexer": "ipython3",
   "version": "3.6.6"
  }
 },
 "nbformat": 4,
 "nbformat_minor": 2
}
