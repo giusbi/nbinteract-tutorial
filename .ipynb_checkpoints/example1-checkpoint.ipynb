{
 "cells": [
  {
   "cell_type": "code",
   "execution_count": 1,
   "metadata": {},
   "outputs": [],
   "source": [
    "from ipywidgets import interact, interactive\n",
    "import ipywidgets as widgets\n",
    "import pandas as pd\n",
    "import numpy as np\n",
    "import matplotlib.pyplot as plt\n",
    "import seaborn as sns\n",
    "%matplotlib inline\n",
    "import nbinteract as nbi"
   ]
  },
  {
   "cell_type": "code",
   "execution_count": 2,
   "metadata": {},
   "outputs": [],
   "source": [
    "filename = 'data.csv'\n",
    "df = pd.read_csv(filename)"
   ]
  },
  {
   "cell_type": "code",
   "execution_count": 3,
   "metadata": {},
   "outputs": [],
   "source": [
    "# Calculate stats over all processes\n",
    "mean_var = df.groupby('process_ID').mean().mean(axis=0).to_frame('mean')"
   ]
  },
  {
   "cell_type": "code",
   "execution_count": 4,
   "metadata": {},
   "outputs": [],
   "source": [
    "def plot_corr(df_temp):\n",
    "    corr = df_temp.corr()\n",
    "    mask = np.zeros_like(corr, dtype=np.bool)\n",
    "    mask[np.triu_indices_from(mask)] = True\n",
    "\n",
    "    f, ax = plt.subplots(figsize=(20, 12))\n",
    "    cmap = sns.diverging_palette(220, 10, as_cmap=True)\n",
    "\n",
    "    sns.heatmap(corr, mask=mask,cmap='YlGnBu', annot=True, center=0, square=True, linewidths=.5, cbar_kws={\"shrink\": .5}, annot_kws={\"size\": 8})\n",
    "    \n",
    "def print_stats(df):\n",
    "    display(df.describe().append(df.nunique().rename('unique')).transpose())"
   ]
  },
  {
   "cell_type": "markdown",
   "metadata": {},
   "source": [
    "### Explore Statistics per Process"
   ]
  },
  {
   "cell_type": "code",
   "execution_count": 7,
   "metadata": {},
   "outputs": [
    {
     "data": {
      "application/vnd.jupyter.widget-view+json": {
       "model_id": "9158d252a3b14cf8a8c44874dcc9fae9",
       "version_major": 2,
       "version_minor": 0
      },
      "text/plain": [
       "interactive(children=(Select(description='process_ID', options=(4115, 4116, 4117, 4118, 4119, 4120, 4121, 4122…"
      ]
     },
     "metadata": {},
     "output_type": "display_data"
    }
   ],
   "source": [
    "items = sorted(df['process_ID'].unique().tolist())\n",
    "\n",
    "def view(x=''):\n",
    "    return print_stats(df[df['process_ID']==x])\n",
    " \n",
    "w = widgets.Select(options=items, description='process_ID')\n",
    "interactive(view, x=w)"
   ]
  },
  {
   "cell_type": "markdown",
   "metadata": {},
   "source": [
    "### Explore Correlation Matric per process"
   ]
  },
  {
   "cell_type": "code",
   "execution_count": 8,
   "metadata": {},
   "outputs": [
    {
     "data": {
      "application/vnd.jupyter.widget-view+json": {
       "model_id": "d0fd37ec9bb84ac891c6f2e9a4012e38",
       "version_major": 2,
       "version_minor": 0
      },
      "text/plain": [
       "interactive(children=(Select(description='process_ID', options=(4115, 4116, 4117, 4118, 4119, 4120, 4121, 4122…"
      ]
     },
     "metadata": {},
     "output_type": "display_data"
    }
   ],
   "source": [
    "# items = sorted(df['process_ID'].unique().tolist())\n",
    "\n",
    "# def view(x=''):\n",
    "#     return plot_corr(df[df['process_ID']==x])\n",
    " \n",
    "# w = widgets.Select(options=items, description='process_ID')\n",
    "# interactive(view, x=w)"
   ]
  },
  {
   "cell_type": "markdown",
   "metadata": {},
   "source": [
    "### Explore Time Series per process and variable"
   ]
  },
  {
   "cell_type": "code",
   "execution_count": 34,
   "metadata": {
    "scrolled": false
   },
   "outputs": [
    {
     "data": {
      "application/vnd.jupyter.widget-view+json": {
       "model_id": "c7d9126e4a734a0ea6a8cb7f494638b2",
       "version_major": 2,
       "version_minor": 0
      },
      "text/plain": [
       "VBox(children=(interactive(children=(Select(description='process_ID', options=(4115, 4116, 4117, 4118, 4119, 4…"
      ]
     },
     "metadata": {},
     "output_type": "display_data"
    }
   ],
   "source": [
    "items = sorted(df['process_ID'].unique().tolist())\n",
    "items2 = list(set(list(df.columns)) - set(['object_ID', 'process_ID','time_index', 'pipeline']))\n",
    "\n",
    "def x_val(proc):\n",
    "    return df[df['process_ID']==proc]['time_index'].values\n",
    "\n",
    "def y_val(xs, proc, vari):\n",
    "    return df[df['process_ID']==proc][vari].values\n",
    "\n",
    "nbi.line(x_val, y_val,\n",
    "         proc=widgets.Select(options=items, description='process_ID'), \n",
    "         vari=widgets.Select(options=items2, description='variable'))"
   ]
  }
 ],
 "metadata": {
  "kernelspec": {
   "display_name": "Python 3",
   "language": "python",
   "name": "python3"
  },
  "language_info": {
   "codemirror_mode": {
    "name": "ipython",
    "version": 3
   },
   "file_extension": ".py",
   "mimetype": "text/x-python",
   "name": "python",
   "nbconvert_exporter": "python",
   "pygments_lexer": "ipython3",
   "version": "3.6.6"
  }
 },
 "nbformat": 4,
 "nbformat_minor": 2
}
